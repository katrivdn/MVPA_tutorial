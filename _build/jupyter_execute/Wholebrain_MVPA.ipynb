{
 "cells": [
  {
   "cell_type": "markdown",
   "id": "cbbd63b4",
   "metadata": {},
   "source": [
    "# Whole brain MVPA\n",
    "This sample script will perform a whole-brain MVPA. ADD SOME MORE ON WHOLE BRAIN MVPA HERE. "
   ]
  },
  {
   "cell_type": "code",
   "execution_count": 1,
   "id": "44a13776",
   "metadata": {},
   "outputs": [
    {
     "name": "stdout",
     "output_type": "stream",
     "text": [
      "These files will be loaded:\n",
      "C:\\Users\\Katrien/nilearn_data\\haxby2001\\subj1\\bold.nii.gz\n",
      "C:\\Users\\Katrien/nilearn_data\\haxby2001\\subj2\\bold.nii.gz\n",
      "C:\\Users\\Katrien/nilearn_data\\haxby2001\\subj3\\bold.nii.gz\n",
      "C:\\Users\\Katrien/nilearn_data\\haxby2001\\subj4\\bold.nii.gz\n"
     ]
    },
    {
     "name": "stderr",
     "output_type": "stream",
     "text": [
      "C:\\Users\\Katrien\\Anaconda3\\envs\\Py37\\lib\\site-packages\\nilearn\\datasets\\__init__.py:89: FutureWarning: Fetchers from the nilearn.datasets module will be updated in version 0.9 to return python strings instead of bytes and Pandas dataframes instead of Numpy arrays.\n",
      "  \"Numpy arrays.\", FutureWarning)\n"
     ]
    }
   ],
   "source": [
    "# import necessary modules\n",
    "import nilearn\n",
    "import os\n",
    "import numpy as np\n",
    "\n",
    "from nilearn import datasets ## this can be removed when performing your own MVPA (just imports sample data)\n",
    "\n",
    "# import data\n",
    "subjects_id = ['01','02','03','04'] # insert list of subjects\n",
    "fmri_path   = datasets.fetch_haxby(subjects=[int(i) for i in subjects_id]).func ## replace path with own data (*)\n",
    "\n",
    "#(*) if in BIDS format: \n",
    "#path_to_BIDS = r'S:\\bbl\\NTR\\NEAR_BIDS' ## replace with path to BIDS\n",
    "#path_to_subj = [path_to_BIDS+'\\sub-'+sub+'\\\\func' for sub in subjects_id] ## this will create a list with the path to each subj\n",
    "#functional   = [f for file in [os.listdir(sub) for sub in path_to_subj] for f in file if 'sub' and 'bold' in f]\n",
    "#fmri_path    = [path + '\\\\'+file for path, file in zip(np.repeat(path_to_subj,len(functional)/len(subjects_id)),functional)]\n",
    "\n",
    "print('These files will be loaded:');print(*fmri_path,sep='\\n')\n",
    "\n",
    "# \n",
    "\n",
    "\n",
    "\n"
   ]
  }
 ],
 "metadata": {
  "kernelspec": {
   "display_name": "Python 3 (ipykernel)",
   "language": "python",
   "name": "python3"
  },
  "language_info": {
   "codemirror_mode": {
    "name": "ipython",
    "version": 3
   },
   "file_extension": ".py",
   "mimetype": "text/x-python",
   "name": "python",
   "nbconvert_exporter": "python",
   "pygments_lexer": "ipython3",
   "version": "3.7.11"
  }
 },
 "nbformat": 4,
 "nbformat_minor": 5
}