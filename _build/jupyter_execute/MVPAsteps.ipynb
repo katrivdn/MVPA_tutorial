{
 "cells": [
  {
   "cell_type": "markdown",
   "id": "e66b3382",
   "metadata": {},
   "source": [
    "# How to perform Multivoxel Pattern analysis\n",
    "Just like any statistical technique, MVPA is 'just' a tool - there are many many ways in which you can use it; the best way to use it really depends on your research question. Most of the time, it's best to even use it in several ways to check if the pipeline you are using does not bias your results! \n",
    "\n",
    "We will here first go through the basic steps involved when doing MVPA. These include: feature selection, choosing a classifier, training and testing the classifier and finally examining the results. (+ I also want to put something about whole brain decoding, ICA, searchlight etc. but I'm not sure of how i'll do this... maybe another section that focusses more closely on each...? + then add some code?)"
   ]
  },
  {
   "cell_type": "markdown",
   "id": "165dad16",
   "metadata": {},
   "source": [
    "## Feature selection\n",
    "Once you have **pre-processed** your data - *this is really important!* - you can (and preferably should) do feature selection (although we will demonstrate here as well how you can use the pre-processed raw data to perform MVPA). \n",
    "\n",
    "**Why do feature selection?** fMRI data typically has (much!) more features (= voxels) than outcomes (= experimental conditions typically, or groups etc.). This problem is called the ['curse of dimensionality'](https://www.youtube.com/watch?v=DyxQUHz4jWg) which will make it super hard for our model to classify succesfully! \n",
    "\n",
    "That being said, MVPA can be applied on raw data - but the accuracy of your model will typically be lower compared to a model in which feature selection is applied. \n",
    "\n",
    "Feature selection can be done by:\n",
    "- subselecting a range of voxels (like in using an ROI)\n",
    "- using beta-maps for each trial/condition\n",
    "- performing an ICA or a PCA\n",
    "- averaging the brain activity for one condition/block\n",
    "- ... "
   ]
  },
  {
   "cell_type": "markdown",
   "id": "189e511d",
   "metadata": {},
   "source": [
    "\n",
    "## Choosing a classifier"
   ]
  },
  {
   "cell_type": "markdown",
   "id": "4f1368d0",
   "metadata": {},
   "source": [
    "## Training and testing the classifier"
   ]
  },
  {
   "cell_type": "markdown",
   "id": "2cd51b95",
   "metadata": {},
   "source": [
    "## Examining the results"
   ]
  }
 ],
 "metadata": {
  "kernelspec": {
   "display_name": "Python 3 (ipykernel)",
   "language": "python",
   "name": "python3"
  },
  "language_info": {
   "codemirror_mode": {
    "name": "ipython",
    "version": 3
   },
   "file_extension": ".py",
   "mimetype": "text/x-python",
   "name": "python",
   "nbconvert_exporter": "python",
   "pygments_lexer": "ipython3",
   "version": "3.7.11"
  }
 },
 "nbformat": 4,
 "nbformat_minor": 5
}